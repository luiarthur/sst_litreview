{
 "cells": [
  {
   "cell_type": "markdown",
   "metadata": {},
   "source": [
    "# Review \n",
    "\n",
    "1. Found the [global climate data sets](http://www.metoffice.gov.uk/hadobs/)\n",
    "    - Played around with datasets [here](http://www.metoffice.gov.uk/hadobs/hadisst/data/download.html)\n",
    "2. Workshop Notes are difficult to follow\n",
    "3. Installed ODV (uses netcdf formatted files). Plot styles are a little old"
   ]
  },
  {
   "cell_type": "code",
   "execution_count": 4,
   "metadata": {
    "collapsed": false
   },
   "outputs": [
    {
     "ename": "ERROR",
     "evalue": "Error in par(plt = bigplot): invalid value specified for graphical parameter \"plt\"\n",
     "output_type": "error",
     "traceback": [
      "Error in par(plt = bigplot): invalid value specified for graphical parameter \"plt\"\n"
     ]
    },
    {
     "ename": "ERROR",
     "evalue": "Error in polygon(coord, col = col, ...): plot.new has not been called yet\n",
     "output_type": "error",
     "traceback": [
      "Error in polygon(coord, col = col, ...): plot.new has not been called yet\n"
     ]
    },
    {
     "data": {
      "text/html": [
       "<strong>pdf:</strong> 2"
      ],
      "text/latex": [
       "\\textbf{pdf:} 2"
      ],
      "text/markdown": [
       "**pdf:** 2"
      ],
      "text/plain": [
       "pdf \n",
       "  2 "
      ]
     },
     "execution_count": 4,
     "metadata": {},
     "output_type": "execute_result"
    }
   ],
   "source": [
    "library(maps) # map()\n",
    "library(LatticeKrig) # quilt.plot()\n",
    "x <- as.matrix( read.table(\"../dat/HadISST1_SST_2015.txt\") )\n",
    "xvec <- c(x)\n",
    "xvec[which(xvec != -1000)] <- xvec[which(xvec != -1000)] / 100\n",
    "xvec[which(xvec < -30)] <- -60\n",
    "\n",
    "n <- nrow(x)\n",
    "k <- ncol(x)\n",
    "\n",
    "lat <- rep(seq(89.5,-89.5,length=n),times=k)#rep(1:k,each=n)\n",
    "lon <- rep(seq(-179.5,179.5,length=n),each=k)#rep(1:n,k)\n",
    "\n",
    "latlon<- cbind(lat,lon)\n",
    "\n",
    "viewPred <- function(x,latlon,main.plot='',bks=range(x),leg=T) {\n",
    "  quilt.plot(latlon[,2],latlon[,1],x,add.legend=leg,\n",
    "             fg='grey90',bty='n',main=main.plot,\n",
    "             ylim=range(latlon[,1])+c(-1,1),\n",
    "             xlim=range(latlon[,2])+c(-1,1),\n",
    "             breaks=seq(bks[1],bks[2],len=length(x)+1),#nx=150,ny=150,\n",
    "             col= colorRampPalette(c('dark blue','grey90','dark red'))(length(x)))\n",
    "  map('world',add=T,col='grey')\n",
    "}\n",
    "png(\"map.png\",w=9,h=5)\n",
    "viewPred(xvec,latlon)\n",
    "map('world',fill=TRUE,add=T)\n",
    "dev.off()"
   ]
  },
  {
   "cell_type": "markdown",
   "metadata": {
    "collapsed": true
   },
   "source": [
    "![image](map.png)"
   ]
  },
  {
   "cell_type": "code",
   "execution_count": null,
   "metadata": {
    "collapsed": true
   },
   "outputs": [],
   "source": []
  }
 ],
 "metadata": {
  "kernelspec": {
   "display_name": "R",
   "language": "R",
   "name": "ir"
  },
  "language_info": {
   "codemirror_mode": "r",
   "file_extension": ".r",
   "mimetype": "text/x-r-source",
   "name": "R",
   "pygments_lexer": "r",
   "version": "3.2.2"
  }
 },
 "nbformat": 4,
 "nbformat_minor": 0
}

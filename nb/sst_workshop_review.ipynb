{
 "cells": [
  {
   "cell_type": "markdown",
   "metadata": {},
   "source": [
    "# Review \n",
    "\n",
    "1. Found the [global climate data sets](http://www.metoffice.gov.uk/hadobs/)\n",
    "    - Played around with datasets [here](http://www.metoffice.gov.uk/hadobs/hadisst/data/download.html)"
   ]
  },
  {
   "cell_type": "code",
   "execution_count": 12,
   "metadata": {
    "collapsed": false
   },
   "outputs": [],
   "source": [
    "library(maps) # map()\n",
    "library(LatticeKrig) # quilt.plot()\n",
    "x <- as.matrix( read.table(\"../dat/HadISST1_SST_2015.txt\") )\n",
    "xvec <- c(x)\n",
    "xvec[which(xvec != -1000)] <- xvec[which(xvec != -1000)] / 100\n",
    "xvec[which(xvec < -30)] <- -60\n",
    "\n",
    "n <- nrow(x)\n",
    "k <- ncol(x)\n",
    "\n",
    "lat <- rep(seq(89.5,-89.5,length=n),times=k)#rep(1:k,each=n)\n",
    "lon <- rep(seq(-179.5,179.5,length=n),each=k)#rep(1:n,k)\n",
    "\n",
    "latlon<- cbind(lat,lon)\n",
    "\n",
    "viewPred <- function(x,latlon,main.plot='',bks=range(x),leg=T) {\n",
    "  quilt.plot(latlon[,2],latlon[,1],x,add.legend=leg,\n",
    "             fg='grey90',bty='n',main=main.plot,\n",
    "             ylim=range(latlon[,1])+c(-1,1),\n",
    "             xlim=range(latlon[,2])+c(-1,1),\n",
    "             breaks=seq(bks[1],bks[2],len=length(x)+1),#nx=150,ny=150,\n",
    "             col= colorRampPalette(c('dark blue','grey90','dark red'))(length(x)))\n",
    "  map('world',add=T,col='grey')\n",
    "}\n",
    "#viewPred(xvec,latlon)\n",
    "#map('world',fill=TRUE,add=T)"
   ]
  },
  {
   "cell_type": "code",
   "execution_count": null,
   "metadata": {
    "collapsed": true
   },
   "outputs": [],
   "source": []
  }
 ],
 "metadata": {
  "kernelspec": {
   "display_name": "R",
   "language": "R",
   "name": "ir"
  },
  "language_info": {
   "codemirror_mode": "r",
   "file_extension": ".r",
   "mimetype": "text/x-r-source",
   "name": "R",
   "pygments_lexer": "r",
   "version": "3.3.0"
  }
 },
 "nbformat": 4,
 "nbformat_minor": 0
}
